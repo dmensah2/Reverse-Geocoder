{
 "cells": [
  {
   "cell_type": "markdown",
   "metadata": {},
   "source": [
    "<blockquote><h4>Please make sure your latitude column is labeled \"Lat\" and your longitude column is labeled \"Long\".</h4></blockquote>"
   ]
  },
  {
   "cell_type": "code",
   "execution_count": null,
   "metadata": {},
   "outputs": [],
   "source": [
    "#import modules\n",
    "from arcgis.gis import GIS\n",
    "from arcgis.geocoding import reverse_geocode\n",
    "import pandas as pd\n",
    "from tkinter.filedialog import askopenfilename, asksaveasfile \n",
    "from tqdm import tqdm"
   ]
  },
  {
   "cell_type": "code",
   "execution_count": null,
   "metadata": {},
   "outputs": [],
   "source": [
    "#connect to ArcGIS Online as anonymous user\n",
    "gis = GIS()\n",
    "\n",
    "#get user input\n",
    "csv = askopenfilename()\n",
    "df = pd.read_csv(csv)\n",
    "\n",
    "#check data\n",
    "df.head()"
   ]
  },
  {
   "cell_type": "code",
   "execution_count": null,
   "metadata": {},
   "outputs": [],
   "source": [
    "#reverse geocode addresses from lat/longs\n",
    "def rev_geocode(lat, long):\n",
    "    lat = list(df[lat])\n",
    "    long = list(df[long])\n",
    "    address = []\n",
    "    zipcode = []\n",
    "\n",
    "    for i in tqdm(range(len(lat))):\n",
    "        latlong = []\n",
    "        latlong.extend([long[i], lat[i]])\n",
    "        try:\n",
    "            result = reverse_geocode(latlong)\n",
    "            addr = result[\"address\"][\"Match_addr\"]\n",
    "            zc = result[\"address\"][\"Postal\"]\n",
    "            address.append(addr)\n",
    "            zipcode.append(zc)\n",
    "        except:\n",
    "            addr = \"Unfound Address\"\n",
    "            zc = \"Unfound Zipcode\"\n",
    "            address.append(addr)\n",
    "            zipcode.append(zc)\n",
    "            pass\n",
    "\n",
    "    print(\"You have \" + str(len(address)) + \" addresses.\")\n",
    "    \n",
    "    #add columns to dataframe\n",
    "    df[\"Address\"] = address\n",
    "    df[\"Zipcode\"] = zipcode\n",
    "    \n",
    "    #download dataframe as a csv file\n",
    "    file = asksaveasfile(defaultextension=\".csv\",mode=\"a\")\n",
    "    df.to_csv(file.name)\n",
    "    print(\"Addresses downloaded.\")\n",
    "\n",
    "rev_geocode(\"Lat\",\"Long\")"
   ]
  },
  {
   "cell_type": "code",
   "execution_count": null,
   "metadata": {},
   "outputs": [],
   "source": []
  }
 ],
 "metadata": {
  "kernelspec": {
   "display_name": "Python 3",
   "language": "python",
   "name": "python3"
  },
  "language_info": {
   "codemirror_mode": {
    "name": "ipython",
    "version": 3
   },
   "file_extension": ".py",
   "mimetype": "text/x-python",
   "name": "python",
   "nbconvert_exporter": "python",
   "pygments_lexer": "ipython3",
   "version": "3.8.3"
  }
 },
 "nbformat": 4,
 "nbformat_minor": 4
}
